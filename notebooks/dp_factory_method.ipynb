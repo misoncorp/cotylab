{
 "cells": [
  {
   "cell_type": "code",
   "execution_count": 14,
   "metadata": {},
   "outputs": [
    {
     "name": "stdout",
     "output_type": "stream",
     "text": [
      "사과, 사과, 사과\n",
      "사과, 사과\n",
      "포도, 포도, 포도\n",
      "포도, 포도\n",
      "오렌지, 오렌지, 오렌지\n",
      "오렌지, 오렌지\n"
     ]
    }
   ],
   "source": [
    "import random\n",
    "\n",
    "\n",
    "class FruitTree:\n",
    "    def __init__(self):\n",
    "        self.fruits = []\n",
    "\n",
    "    def pick_fruit(self):\n",
    "        fruit = random.choice(self.fruits)\n",
    "        self.fruits.remove(fruit)\n",
    "        return fruit\n",
    "\n",
    "    def print_status(self):\n",
    "        print(', '.join([str(fruit) for fruit in self.fruits]))\n",
    "\n",
    "\n",
    "class AppleTree(FruitTree):\n",
    "    def add_fruit(self):\n",
    "        self.fruits.append(Apple())\n",
    "\n",
    "\n",
    "class GrapeTree(FruitTree):\n",
    "    def add_fruit(self):\n",
    "        self.fruits.append(Grape())\n",
    "\n",
    "\n",
    "class OrangeTree(FruitTree):\n",
    "    def add_fruit(self):\n",
    "        self.fruits.append(Orange())\n",
    "\n",
    "\n",
    "class Fruit:\n",
    "    def __init__(self, number):\n",
    "        self.name = '과일'\n",
    "\n",
    "    def __str__(self):\n",
    "        return self.name\n",
    "\n",
    "\n",
    "class Apple(Fruit):\n",
    "    def __init__(self):\n",
    "        self.name = '사과'\n",
    "\n",
    "\n",
    "class Grape(Fruit):\n",
    "    def __init__(self):\n",
    "        self.name = '포도'\n",
    "\n",
    "\n",
    "class Orange(Fruit):\n",
    "    def __init__(self):\n",
    "        self.name = '오렌지'\n",
    "\n",
    "\n",
    "apple_tree = AppleTree()\n",
    "apple_tree.add_fruit()  # 사과 하나가 열렸다.\n",
    "apple_tree.add_fruit()  # 사과 하나가 열렸다.\n",
    "apple_tree.add_fruit()  # 사과 하나가 열렸다.\n",
    "apple_tree.print_status()  # 현재 사과 나무의 상태를 보자.\n",
    "apple_tree.pick_fruit()  # 사과 하나를 땄다.\n",
    "apple_tree.print_status()  # 현재 사과 나무의 상태를 보자.\n",
    "\n",
    "grape_tree = GrapeTree()\n",
    "grape_tree.add_fruit()  # 포도 한 송이가 열렸다.\n",
    "grape_tree.add_fruit()  # 포도 한 송이가 열렸다.\n",
    "grape_tree.add_fruit()  # 포도 한 송이가 열렸다.\n",
    "grape_tree.print_status()  # 현재 포도 나무의 상태를 보자.\n",
    "grape_tree.pick_fruit()  # 포도 한 송이를 땄다.\n",
    "grape_tree.print_status()  # 현재 포도 나무의 상태를 보자.\n",
    "\n",
    "orange_tree = OrangeTree()\n",
    "orange_tree.add_fruit()  # 오렌지 하나가 열렸다.\n",
    "orange_tree.add_fruit()  # 오렌지 하나가 열렸다.\n",
    "orange_tree.add_fruit()  # 오렌지 하나가 열렸다.\n",
    "orange_tree.print_status()  # 현재 오렌지 나무의 상태를 보자.\n",
    "orange_tree.pick_fruit()  # 오렌지 하나를 땄다.\n",
    "orange_tree.print_status()  # 현재 오렌지 나무의 상태를 보자."
   ]
  }
 ],
 "metadata": {
  "interpreter": {
   "hash": "2ef72aa289a90eeb28807ce7c82d802803cd2e3f993a53c948ccc393eb5c1116"
  },
  "kernelspec": {
   "display_name": "Python 3.8.5 64-bit ('base': conda)",
   "language": "python",
   "name": "python3"
  },
  "language_info": {
   "codemirror_mode": {
    "name": "ipython",
    "version": 3
   },
   "file_extension": ".py",
   "mimetype": "text/x-python",
   "name": "python",
   "nbconvert_exporter": "python",
   "pygments_lexer": "ipython3",
   "version": "3.8.5"
  },
  "orig_nbformat": 4
 },
 "nbformat": 4,
 "nbformat_minor": 2
}
