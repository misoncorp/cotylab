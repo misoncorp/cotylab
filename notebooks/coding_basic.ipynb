{
 "cells": [
  {
   "cell_type": "code",
   "execution_count": 3,
   "metadata": {},
   "outputs": [],
   "source": [
    "# 백(bag)"
   ]
  },
  {
   "cell_type": "code",
   "execution_count": 1,
   "metadata": {},
   "outputs": [
    {
     "name": "stdout",
     "output_type": "stream",
     "text": [
      "Counter({'파란색 공': 3, '빨간색 공': 1, '초록색 공': 1})\n"
     ]
    }
   ],
   "source": [
    "from collections import Counter\n",
    "자루 = ['빨간색 공', '초록색 공', '파란색 공', '파란색 공', '파란색 공']\n",
    "print(Counter(자루))"
   ]
  },
  {
   "cell_type": "code",
   "execution_count": 2,
   "metadata": {},
   "outputs": [
    {
     "name": "stdout",
     "output_type": "stream",
     "text": [
      "Counter({'파란색 공': 3, '초록색 공': 2, '빨간색 공': 1})\n"
     ]
    }
   ],
   "source": [
    "자루.append('초록색 공')\n",
    "print(Counter(자루))"
   ]
  },
  {
   "cell_type": "code",
   "execution_count": 4,
   "metadata": {},
   "outputs": [],
   "source": [
    "# 집합(set)"
   ]
  },
  {
   "cell_type": "code",
   "execution_count": 8,
   "metadata": {},
   "outputs": [
    {
     "name": "stdout",
     "output_type": "stream",
     "text": [
      "합집합: 집합A + 집합B = {1, 2, 3, 4, 5, 7, 11}\n",
      "교집합: 집합A & 집합B = {1, 3, 5}\n",
      "차집합: 집합A - 집합B = {2, 4}\n",
      "차집합: 집합B - 집합A = {11, 7}\n"
     ]
    }
   ],
   "source": [
    "집합A = { 1, 2, 3, 4, 5 }\n",
    "집합B = { 1, 3, 5, 7, 11 }\n",
    "print(f'합집합: 집합A + 집합B = {집합A | 집합B}')\n",
    "print(f'교집합: 집합A & 집합B = {집합A & 집합B}')\n",
    "print(f'차집합: 집합A - 집합B = {집합A - 집합B}')\n",
    "print(f'차집합: 집합B - 집합A = {집합B - 집합A}')"
   ]
  },
  {
   "cell_type": "code",
   "execution_count": 9,
   "metadata": {},
   "outputs": [],
   "source": [
    "# 리스트(list)"
   ]
  },
  {
   "cell_type": "code",
   "execution_count": 11,
   "metadata": {},
   "outputs": [
    {
     "name": "stdout",
     "output_type": "stream",
     "text": [
      "리스트: [1, 2, 3]\n",
      "3 추가 후: [1, 2, 3, 3]\n",
      "2 추가 후: [1, 2, 3, 3, 2]\n",
      "1 추가 후: [1, 2, 3, 3, 2, 1]\n"
     ]
    }
   ],
   "source": [
    "리스트 = [ 1, 2, 3 ]\n",
    "print(f'리스트: {리스트}')\n",
    "리스트.append(3)\n",
    "print(f'3 추가 후: {리스트}')\n",
    "리스트.append(2)\n",
    "print(f'2 추가 후: {리스트}')\n",
    "리스트.append(1)\n",
    "print(f'1 추가 후: {리스트}')"
   ]
  },
  {
   "cell_type": "code",
   "execution_count": 34,
   "metadata": {},
   "outputs": [
    {
     "name": "stdout",
     "output_type": "stream",
     "text": [
      "1 -> 2 -> 3 -> 3 -> 2 -> 1\n",
      "1 <-> 2 <-> 3 <-> 3 <-> 2 <-> 1\n",
      "1 -> 2 -> 3 -> 3 -> 2 -> 1\n",
      "\n",
      "\n"
     ]
    }
   ],
   "source": [
    "from dstructure.SLL import SLL\n",
    "\n",
    "단순연결리스트 = SLL() \n",
    "단순연결리스트.insert(1)\n",
    "단순연결리스트.insert(2)\n",
    "단순연결리스트.insert(3)\n",
    "단순연결리스트.insert(3)\n",
    "단순연결리스트.insert(2)\n",
    "단순연결리스트.insert(1)\n",
    "단순연결리스트.print()\n",
    "\n",
    "from dstructure.DLL import DLL\n",
    "\n",
    "이중연결리스트 = DLL() \n",
    "이중연결리스트.insert(1)\n",
    "이중연결리스트.insert(2)\n",
    "이중연결리스트.insert(3)\n",
    "이중연결리스트.insert(3)\n",
    "이중연결리스트.insert(2)\n",
    "이중연결리스트.insert(1)\n",
    "이중연결리스트.print()\n",
    "\n",
    "from dstructure.SCLL import SCLL\n",
    "\n",
    "원형연결리스트 = SCLL() \n",
    "원형연결리스트.insert(1)\n",
    "원형연결리스트.insert(2)\n",
    "원형연결리스트.insert(3)\n",
    "원형연결리스트.insert(3)\n",
    "원형연결리스트.insert(2)\n",
    "원형연결리스트.insert(1)\n",
    "원형연결리스트.print()"
   ]
  },
  {
   "cell_type": "code",
   "execution_count": 40,
   "metadata": {},
   "outputs": [
    {
     "name": "stdout",
     "output_type": "stream",
     "text": [
      "2\n",
      "1\n"
     ]
    }
   ],
   "source": [
    "print(단순연결리스트.head.next.data)\n",
    "print(이중연결리스트.root.next.data)"
   ]
  }
 ],
 "metadata": {
  "interpreter": {
   "hash": "42588fd11209419b7c81abe23e31a1d2101f60811b02170c268e57ebb57d5d9a"
  },
  "kernelspec": {
   "display_name": "Python 3.8.8 64-bit ('base': conda)",
   "language": "python",
   "name": "python3"
  },
  "language_info": {
   "codemirror_mode": {
    "name": "ipython",
    "version": 3
   },
   "file_extension": ".py",
   "mimetype": "text/x-python",
   "name": "python",
   "nbconvert_exporter": "python",
   "pygments_lexer": "ipython3",
   "version": "3.8.8"
  },
  "orig_nbformat": 4
 },
 "nbformat": 4,
 "nbformat_minor": 2
}
