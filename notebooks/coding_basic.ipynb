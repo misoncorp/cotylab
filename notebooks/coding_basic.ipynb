{
 "cells": [
  {
   "cell_type": "code",
   "execution_count": 3,
   "metadata": {},
   "outputs": [],
   "source": [
    "# 백(bag)\n",
    "from collections import Counter\n",
    "자루 = ['빨간색 공', '초록색 공', '파란색 공', '파란색 공', '파란색 공']\n",
    "print(Counter(자루))"
   ]
  },
  {
   "cell_type": "code",
   "execution_count": 2,
   "metadata": {},
   "outputs": [
    {
     "name": "stdout",
     "output_type": "stream",
     "text": [
      "Counter({'파란색 공': 3, '초록색 공': 2, '빨간색 공': 1})\n"
     ]
    }
   ],
   "source": [
    "자루.append('초록색 공')\n",
    "print(Counter(자루))"
   ]
  },
  {
   "cell_type": "code",
   "execution_count": 4,
   "metadata": {},
   "outputs": [],
   "source": [
    "# 집합(set)\n",
    "집합A = { 1, 2, 3, 4, 5 }\n",
    "집합B = { 1, 3, 5, 7, 11 }\n",
    "print(f'합집합: 집합A + 집합B = {집합A | 집합B}')\n",
    "print(f'교집합: 집합A & 집합B = {집합A & 집합B}')\n",
    "print(f'차집합: 집합A - 집합B = {집합A - 집합B}')\n",
    "print(f'차집합: 집합B - 집합A = {집합B - 집합A}')"
   ]
  },
  {
   "cell_type": "code",
   "execution_count": 9,
   "metadata": {},
   "outputs": [],
   "source": [
    "# 리스트(list)\n",
    "리스트 = [ 1, 2, 3 ]\n",
    "print(f'리스트: {리스트}')\n",
    "리스트.append(3)\n",
    "print(f'3 추가 후: {리스트}')\n",
    "리스트.append(2)\n",
    "print(f'2 추가 후: {리스트}')\n",
    "리스트.append(1)\n",
    "print(f'1 추가 후: {리스트}')"
   ]
  },
  {
   "cell_type": "code",
   "execution_count": null,
   "metadata": {},
   "outputs": [],
   "source": [
    "# 연결리스트(linked list)\n",
    "%load_ext autoreload\n",
    "%autoreload 2\n",
    "\n",
    "from cotylab.data_structure.linked_list import LinkedList\n",
    "from cotylab.data_structure.linked_list import DoubledLinkedList\n",
    "from cotylab.data_structure.linked_list import CircularLinkedList\n",
    "\n",
    "단순연결리스트 = LinkedList([1, 2, 3, 3, 2, 1])\n",
    "이중연결리스트 = DoubledLinkedList([1, 2, 3, 3, 2, 1])\n",
    "원형연결리스트 = CircularLinkedList([1, 2, 3, 3, 2, 1])\n",
    "\n",
    "print(f'단순연결리스트: {단순연결리스트}')\n",
    "print(f'이중연결리스트: {이중연결리스트}')\n",
    "print(f'원형연결리스트: {원형연결리스트}')"
   ]
  },
  {
   "cell_type": "code",
   "execution_count": 9,
   "metadata": {},
   "outputs": [
    {
     "name": "stdout",
     "output_type": "stream",
     "text": [
      "이중연결리스트 꼬리 요소: 1\n",
      "이중연결리스트 꼬리 이전 요소: 2\n",
      "단순연결리스트 꼬리 다음 요소: None\n",
      "원형연결리스트 꼬리 다음 요소: 1\n"
     ]
    }
   ],
   "source": [
    "이중연결리스트.go_to_tail()\n",
    "print(f'이중연결리스트 꼬리 요소: {이중연결리스트.current}')\n",
    "print(f'이중연결리스트 꼬리 이전 요소: {이중연결리스트.prev()}')\n",
    "\n",
    "단순연결리스트.go_to_tail()\n",
    "원형연결리스트.go_to_tail()\n",
    "print(f'단순연결리스트 꼬리 다음 요소: {단순연결리스트.next()}')\n",
    "print(f'원형연결리스트 꼬리 다음 요소: {원형연결리스트.next()}')"
   ]
  },
  {
   "cell_type": "code",
   "execution_count": 1,
   "metadata": {},
   "outputs": [
    {
     "name": "stdout",
     "output_type": "stream",
     "text": [
      "행렬A + 행렬B =\n",
      "[[5 5]\n",
      " [5 5]]\n"
     ]
    }
   ],
   "source": [
    "# 행렬(matrix)\n",
    "import numpy as np\n",
    "\n",
    "행렬A = np.array([\n",
    "    [1, 2],\n",
    "    [3, 4]\n",
    "])\n",
    "\n",
    "행렬B = np.array([\n",
    "    [4, 3],\n",
    "    [2, 1]\n",
    "])\n",
    "\n",
    "print('행렬A + 행렬B =')\n",
    "print(행렬A + 행렬B)"
   ]
  },
  {
   "cell_type": "code",
   "execution_count": 2,
   "metadata": {},
   "outputs": [
    {
     "name": "stdout",
     "output_type": "stream",
     "text": [
      "행렬A - 행렬B =\n",
      "[[4 3]\n",
      " [2 1]]\n"
     ]
    }
   ],
   "source": [
    "행렬A = np.array([\n",
    "    [5, 5],\n",
    "    [5, 5]\n",
    "])\n",
    "\n",
    "행렬B = np.array([\n",
    "    [1, 2],\n",
    "    [3, 4]\n",
    "])\n",
    "print('행렬A - 행렬B =')\n",
    "print(행렬A - 행렬B)"
   ]
  },
  {
   "cell_type": "code",
   "execution_count": 4,
   "metadata": {},
   "outputs": [
    {
     "name": "stdout",
     "output_type": "stream",
     "text": [
      "행렬A * 2 =\n",
      "[[2 4]\n",
      " [6 8]]\n"
     ]
    }
   ],
   "source": [
    "행렬A = np.array([\n",
    "    [1, 2],\n",
    "    [3, 4]\n",
    "])\n",
    "print('행렬A * 2 =')\n",
    "print(행렬A * 2)"
   ]
  },
  {
   "cell_type": "code",
   "execution_count": 5,
   "metadata": {},
   "outputs": [
    {
     "name": "stdout",
     "output_type": "stream",
     "text": [
      "행렬A / 2 =\n",
      "[[1. 2.]\n",
      " [3. 4.]]\n"
     ]
    }
   ],
   "source": [
    "행렬A = np.array([\n",
    "    [2, 4],\n",
    "    [6, 8]\n",
    "])\n",
    "print('행렬A / 2 =')\n",
    "print(행렬A / 2)"
   ]
  },
  {
   "cell_type": "code",
   "execution_count": 6,
   "metadata": {},
   "outputs": [
    {
     "name": "stdout",
     "output_type": "stream",
     "text": [
      "1차원 배열:\n",
      "[1 2]\n",
      "2차원 배열:\n",
      "[[1 2]\n",
      " [3 4]]\n",
      "3차원 배열:\n",
      "[[[1 2]\n",
      "  [3 4]]\n",
      "\n",
      " [[5 6]\n",
      "  [7 8]]]\n"
     ]
    }
   ],
   "source": [
    "# 배열(array)\n",
    "import numpy as np\n",
    "\n",
    "일차원배열 = np.array([1, 2])\n",
    "이차원배열 = np.array([\n",
    "    [1, 2],\n",
    "    [3, 4]\n",
    "])\n",
    "삼차원배열 = np.array([\n",
    "    [[1, 2],\n",
    "    [3, 4]],\n",
    "    [[5, 6],\n",
    "    [7, 8]]\n",
    "])\n",
    "\n",
    "print('1차원 배열:')\n",
    "print(일차원배열)\n",
    "print('2차원 배열:')\n",
    "print(이차원배열)\n",
    "print('3차원 배열:')\n",
    "print(삼차원배열)"
   ]
  },
  {
   "cell_type": "code",
   "execution_count": 8,
   "metadata": {},
   "outputs": [
    {
     "name": "stdout",
     "output_type": "stream",
     "text": [
      "입력 후 큐: [1, 2, 3]\n",
      "디큐: 1\n",
      "디큐: 2\n",
      "디큐: 3\n",
      "출력 후 큐: []\n"
     ]
    }
   ],
   "source": [
    "# 큐(queue)\n",
    "from queue import Queue\n",
    "큐 = Queue()\n",
    "큐.put(1)  # 인큐(enqueue)\n",
    "큐.put(2)\n",
    "큐.put(3)\n",
    "print(f'입력 후 큐: {list(큐.queue)}')\n",
    "print(f'디큐: {큐.get()}')  # 디큐(dequeue)\n",
    "print(f'디큐: {큐.get()}')\n",
    "print(f'디큐: {큐.get()}')\n",
    "print(f'출력 후 큐: {list(큐.queue)}')"
   ]
  },
  {
   "cell_type": "code",
   "execution_count": 9,
   "metadata": {},
   "outputs": [
    {
     "name": "stdout",
     "output_type": "stream",
     "text": [
      "푸시 후 스택: [1, 2, 3]\n",
      "팝: 3\n",
      "팝: 2\n",
      "팝: 1\n",
      "팝 후 스택: []\n"
     ]
    }
   ],
   "source": [
    "# 스택(stack)\n",
    "스택 = []\n",
    "스택.append(1)  # 푸시(push)\n",
    "스택.append(2)\n",
    "스택.append(3)\n",
    "print(f'푸시 후 스택: {스택}')\n",
    "print(f'팝: {스택.pop()}')  # 팝(pop)\n",
    "print(f'팝: {스택.pop()}')\n",
    "print(f'팝: {스택.pop()}')\n",
    "print(f'팝 후 스택: {스택}')"
   ]
  },
  {
   "cell_type": "code",
   "execution_count": 1,
   "metadata": {},
   "outputs": [
    {
     "name": "stdout",
     "output_type": "stream",
     "text": [
      "인큐 후 데크: deque([3, 2, 1, 4, 5])\n",
      "왼쪽 디큐: 3\n",
      "왼쪽 디큐: 2\n",
      "오른쪽 디큐: 5\n",
      "오른쪽 디큐: 4\n",
      "오른쪽 디큐: 1\n"
     ]
    }
   ],
   "source": [
    "# 데크(deque)\n",
    "from collections import deque\n",
    "데크 = deque()\n",
    "데크.appendleft(1)\n",
    "데크.appendleft(2)\n",
    "데크.appendleft(3)\n",
    "데크.append(4)\n",
    "데크.append(5)\n",
    "\n",
    "print(f'인큐 후 데크: {데크}')\n",
    "print(f'왼쪽 디큐: {데크.popleft()}')\n",
    "print(f'왼쪽 디큐: {데크.popleft()}')\n",
    "print(f'오른쪽 디큐: {데크.pop()}')\n",
    "print(f'오른쪽 디큐: {데크.pop()}')\n",
    "print(f'오른쪽 디큐: {데크.pop()}')"
   ]
  },
  {
   "cell_type": "code",
   "execution_count": 11,
   "metadata": {},
   "outputs": [
    {
     "name": "stdout",
     "output_type": "stream",
     "text": [
      "성: 홍, 이름: 길동\n",
      "{'과일': ['사과', '바나나', '포도'], '나라': ['한국', '중국', '일본'], '동물': ['개', '고양이', '토끼']}\n"
     ]
    }
   ],
   "source": [
    "# 맵(map)\n",
    "홍길동맵 = {\n",
    "    '성': '홍',\n",
    "    '이름': '길동',\n",
    "}\n",
    "print(f'성: {홍길동맵[\"성\"]}, 이름: {홍길동맵[\"이름\"]}')\n",
    "\n",
    "과일나라동물맵 = {}\n",
    "과일나라동물맵['과일'] = ['사과', '바나나', '포도']\n",
    "과일나라동물맵['나라'] = ['한국', '중국', '일본']\n",
    "과일나라동물맵['동물'] = ['개', '고양이', '토끼']\n",
    "print(과일나라동물맵)"
   ]
  },
  {
   "cell_type": "code",
   "execution_count": 22,
   "metadata": {},
   "outputs": [
    {
     "data": {
      "image/png": "[encoded data removed]",
      "text/plain": [
       "<Figure size 432x288 with 1 Axes>"
      ]
     },
     "metadata": {},
     "output_type": "display_data"
    }
   ],
   "source": [
    "# 그래프(graph)\n",
    "import networkx as nx\n",
    "그래프 = nx.Graph()\n",
    "그래프.add_node('집')\n",
    "그래프.add_node('어린이집')\n",
    "그래프.add_node('할머니집')\n",
    "그래프.add_edge('집', '어린이집')\n",
    "그래프.add_edge('집', '할머니집')\n",
    "그래프.add_edge('할머니집', '어린이집')\n",
    "nx.draw(그래프, with_labels=True, font_family='NanumGothic', font_size=20, font_weight='bold')"
   ]
  },
  {
   "cell_type": "code",
   "execution_count": null,
   "metadata": {},
   "outputs": [],
   "source": []
  }
 ],
 "metadata": {
  "kernelspec": {
   "display_name": "Python 3.8.8 ('base')",
   "language": "python",
   "name": "python3"
  },
  "language_info": {
   "codemirror_mode": {
    "name": "ipython",
    "version": 3
   },
   "file_extension": ".py",
   "mimetype": "text/x-python",
   "name": "python",
   "nbconvert_exporter": "python",
   "pygments_lexer": "ipython3",
   "version": "3.8.8"
  },
  "orig_nbformat": 4,
  "vscode": {
   "interpreter": {
    "hash": "263930470851f494f0ed2879c35b57985588df20f9e529b86e97dd5eb9ddc466"
   }
  }
 },
 "nbformat": 4,
 "nbformat_minor": 2
}
