{
 "cells": [
  {
   "cell_type": "code",
   "execution_count": 1,
   "metadata": {},
   "outputs": [],
   "source": [
    "%reload_ext autoreload\n",
    "%autoreload 2"
   ]
  },
  {
   "cell_type": "markdown",
   "metadata": {},
   "source": [
    "# 자료구조 맵(map): 케이크 초 끼우기"
   ]
  },
  {
   "cell_type": "code",
   "execution_count": 2,
   "metadata": {},
   "outputs": [
    {
     "name": "stdout",
     "output_type": "stream",
     "text": [
      "{'주황색 구멍': '주황색 촛불', '초록색 구멍': '초록색 촛불', '파란색 구멍': '파란색 촛불', '분홍색 구멍': '분홍색 촛불'}\n"
     ]
    }
   ],
   "source": [
    "케이크촛불맵 = {}\n",
    "케이크촛불맵['주황색 구멍'] = '주황색 촛불'\n",
    "케이크촛불맵['초록색 구멍'] = '초록색 촛불'\n",
    "케이크촛불맵['파란색 구멍'] = '파란색 촛불'\n",
    "케이크촛불맵['분홍색 구멍'] = '분홍색 촛불'\n",
    "print(케이크촛불맵)"
   ]
  },
  {
   "cell_type": "code",
   "execution_count": 3,
   "metadata": {},
   "outputs": [
    {
     "name": "stdout",
     "output_type": "stream",
     "text": [
      "초록색 촛불\n"
     ]
    }
   ],
   "source": [
    "print(케이크촛불맵['초록색 구멍'])"
   ]
  },
  {
   "cell_type": "markdown",
   "metadata": {},
   "source": [
    "# 자료구조 맵(map): 교통 표지판 만들기"
   ]
  },
  {
   "cell_type": "code",
   "execution_count": 1,
   "metadata": {},
   "outputs": [
    {
     "name": "stdout",
     "output_type": "stream",
     "text": [
      "{'도로공사중 종이컵': '도로공사중 투명컵', '자전거전용도로 종이컵': '자전거전용도로 투명컵', '버스전용차로 종이컵': '버스전용차로 투명컵', '횡단보도 종이컵': '횡단보도 투명컵', '일시정지 종이컵': '일시정지 투명컵'}\n"
     ]
    }
   ],
   "source": [
    "교통표지판맵 = {\n",
    "    '도로공사중 종이컵': '도로공사중 투명컵',\n",
    "    '자전거전용도로 종이컵': '자전거전용도로 투명컵',\n",
    "    '버스전용차로 종이컵': '버스전용차로 투명컵',\n",
    "    '횡단보도 종이컵': '횡단보도 투명컵',\n",
    "    '일시정지 종이컵': '일시정지 투명컵',\n",
    "}\n",
    "print(교통표지판맵)"
   ]
  },
  {
   "cell_type": "code",
   "execution_count": null,
   "metadata": {},
   "outputs": [],
   "source": [
    "print(케이크촛불맵['초록색 구멍'])"
   ]
  },
  {
   "cell_type": "markdown",
   "metadata": {},
   "source": [
    "# 자료구조 큐(Queue): 터널 만들기"
   ]
  },
  {
   "cell_type": "code",
   "execution_count": 9,
   "metadata": {},
   "outputs": [
    {
     "name": "stdout",
     "output_type": "stream",
     "text": [
      "deque(['노란색버스', '분홍색승용차', '민트색스포츠카'])\n"
     ]
    }
   ],
   "source": [
    "from queue import Queue\n",
    "자동차터널큐 = Queue()\n",
    "자동차터널큐.put('노란색버스')\n",
    "자동차터널큐.put('분홍색승용차')\n",
    "자동차터널큐.put('민트색스포츠카')\n",
    "print(자동차터널큐.queue)"
   ]
  },
  {
   "cell_type": "code",
   "execution_count": 10,
   "metadata": {},
   "outputs": [
    {
     "name": "stdout",
     "output_type": "stream",
     "text": [
      "노란색버스\n",
      "deque(['분홍색승용차', '민트색스포츠카'])\n"
     ]
    }
   ],
   "source": [
    "print(자동차터널큐.get())\n",
    "print(자동차터널큐.queue)"
   ]
  },
  {
   "cell_type": "markdown",
   "metadata": {},
   "source": [
    "# 자료구조 스택(stack): 손수건 뽑기"
   ]
  },
  {
   "cell_type": "code",
   "execution_count": 7,
   "metadata": {},
   "outputs": [
    {
     "name": "stdout",
     "output_type": "stream",
     "text": [
      "['구급차손수건', '승용차손수건', '로켓손수건', '경찰차손수건', '헬리콥터손수건']\n"
     ]
    }
   ],
   "source": [
    "손수건스택 = []\n",
    "손수건스택.append('구급차손수건')\n",
    "손수건스택.append('승용차손수건')\n",
    "손수건스택.append('로켓손수건')\n",
    "손수건스택.append('경찰차손수건')\n",
    "손수건스택.append('헬리콥터손수건')\n",
    "print(손수건스택)"
   ]
  },
  {
   "cell_type": "code",
   "execution_count": 8,
   "metadata": {},
   "outputs": [
    {
     "name": "stdout",
     "output_type": "stream",
     "text": [
      "헬리콥터손수건\n",
      "경찰차손수건\n",
      "['구급차손수건', '승용차손수건', '로켓손수건']\n",
      "로켓손수건\n",
      "승용차손수건\n",
      "구급차손수건\n",
      "[]\n"
     ]
    }
   ],
   "source": [
    "print(손수건스택.pop())\n",
    "print(손수건스택.pop())\n",
    "print(손수건스택)\n",
    "print(손수건스택.pop())\n",
    "print(손수건스택.pop())\n",
    "print(손수건스택.pop())\n",
    "print(손수건스택)"
   ]
  },
  {
   "cell_type": "markdown",
   "metadata": {},
   "source": [
    "# 자료구조 백(bag) & 맵(map): 색 막대 구분하기"
   ]
  },
  {
   "cell_type": "code",
   "execution_count": 3,
   "metadata": {},
   "outputs": [
    {
     "name": "stdout",
     "output_type": "stream",
     "text": [
      "{'빨간색 통': ['빨간색 막대', '빨간색 막대', '빨간색 막대'], '노란색 통': ['노란색 막대', '노란색 막대'], '초록색 통': ['초록색 막대']}\n"
     ]
    }
   ],
   "source": [
    "통_막대_맵 = {\n",
    "    '빨간색 통': [],\n",
    "    '노란색 통': [],\n",
    "    '초록색 통': [],\n",
    "}\n",
    "통_막대_맵['빨간색 통'].append('빨간색 막대')\n",
    "통_막대_맵['빨간색 통'].append('빨간색 막대')\n",
    "통_막대_맵['빨간색 통'].append('빨간색 막대')\n",
    "통_막대_맵['노란색 통'].append('노란색 막대')\n",
    "통_막대_맵['노란색 통'].append('노란색 막대')\n",
    "통_막대_맵['초록색 통'].append('초록색 막대')\n",
    "print(통_막대_맵)"
   ]
  },
  {
   "cell_type": "markdown",
   "metadata": {},
   "source": [
    "# 자료구조 집합(set): 동물 먹이 주기"
   ]
  },
  {
   "cell_type": "code",
   "execution_count": null,
   "metadata": {},
   "outputs": [],
   "source": [
    "# "
   ]
  },
  {
   "cell_type": "code",
   "execution_count": 2,
   "metadata": {},
   "outputs": [
    {
     "name": "stdout",
     "output_type": "stream",
     "text": [
      "합집합: {'배추', '물고기', '클로버', '당근', '오이'}\n",
      "교집합: {'당근'}\n",
      "차집합 (토끼 - 수달): {'배추', '클로버'}\n",
      "차집합 (수달 - 토끼): {'물고기', '오이'}\n"
     ]
    }
   ],
   "source": [
    "토끼먹이집합 = { '배추', '클로버', '당근' }\n",
    "수달먹이집합 = { '물고기', '오이', '당근' }\n",
    "\n",
    "print(f'합집합: {토끼먹이집합 | 수달먹이집합}')\n",
    "print(f'교집합: {토끼먹이집합 & 수달먹이집합}')\n",
    "print(f'차집합 (토끼 - 수달): {토끼먹이집합 - 수달먹이집합}')\n",
    "print(f'차집합 (수달 - 토끼): {수달먹이집합 - 토끼먹이집합}')"
   ]
  },
  {
   "cell_type": "markdown",
   "metadata": {},
   "source": [
    "# 자료구조 행렬(matrix): 클레이 색깔 섞기"
   ]
  },
  {
   "cell_type": "code",
   "execution_count": 11,
   "metadata": {},
   "outputs": [
    {
     "name": "stdout",
     "output_type": "stream",
     "text": [
      "빨파초검클레이행렬 + 흰색클레이행렬 =\n",
      "[[11 12]\n",
      " [13 14]]\n"
     ]
    }
   ],
   "source": [
    "import numpy as np\n",
    "\n",
    "빨파초검클레이행렬 = np.array([\n",
    "    [ 1, 2 ],\n",
    "    [ 3, 4 ]\n",
    "])\n",
    "\n",
    "흰색클레이행렬  = np.array([\n",
    "    [ 10, 10 ],\n",
    "    [ 10, 10 ]\n",
    "])\n",
    "\n",
    "print('빨파초검클레이행렬 + 흰색클레이행렬 =')\n",
    "print(빨파초검클레이행렬 + 흰색클레이행렬)"
   ]
  },
  {
   "cell_type": "markdown",
   "metadata": {},
   "source": [
    "# 자료구조 행렬(matrix): 도형 퍼즐 맞추기"
   ]
  },
  {
   "cell_type": "code",
   "execution_count": 8,
   "metadata": {},
   "outputs": [
    {
     "name": "stdout",
     "output_type": "stream",
     "text": [
      "반쪽도형행렬1 + 반쪽도형행렬2 =\n",
      "[[2 4]\n",
      " [6 8]]\n",
      "합친도형행렬 - 반쪽도형행렬1 =\n",
      "[[1 2]\n",
      " [3 4]]\n"
     ]
    }
   ],
   "source": [
    "import numpy as np\n",
    "\n",
    "합친도형행렬 = np.array([\n",
    "    [ 2, 4 ],\n",
    "    [ 6, 8 ]\n",
    "])\n",
    "\n",
    "반쪽도형행렬1 = np.array([\n",
    "    [ 1, 2 ],\n",
    "    [ 3, 4 ]\n",
    "])\n",
    "\n",
    "반쪽도형행렬2 = np.array([\n",
    "    [ 1, 2 ],\n",
    "    [ 3, 4 ]\n",
    "])\n",
    "\n",
    "print('반쪽도형행렬1 + 반쪽도형행렬2 =')\n",
    "print(반쪽도형행렬1 + 반쪽도형행렬2)\n",
    "print('합친도형행렬 - 반쪽도형행렬1 =')\n",
    "print(합친도형행렬 - 반쪽도형행렬1)"
   ]
  },
  {
   "cell_type": "markdown",
   "metadata": {},
   "source": [
    "# 자료구조 백(bag) & 맵(map): 도형 분류하기"
   ]
  },
  {
   "cell_type": "code",
   "execution_count": 15,
   "metadata": {},
   "outputs": [
    {
     "name": "stdout",
     "output_type": "stream",
     "text": [
      "{'동그라미': ['파란색동그라미', '빨간색동그라미', '초록색동그라미'], '세모': ['빨간색세모', '파란색세모', '초록색세모'], '네모': ['파란색네모', '초록색네모', '빨간색네모', '보라색네모'], '빨간색': ['빨간색세모', '빨간색동그라미', '빨간색네모'], '초록색': ['초록색동그라미', '초록색세모', '초록색네모', '초록색별'], '파란색': ['파란색네모', '파란색동그라미', '파란색세모']}\n"
     ]
    }
   ],
   "source": [
    "모양색깔도형맵 = {\n",
    "    '동그라미': ['파란색동그라미', '빨간색동그라미', '초록색동그라미'],\n",
    "    '세모': ['빨간색세모', '파란색세모', '초록색세모'],\n",
    "    '네모': ['파란색네모', '초록색네모', '빨간색네모'],\n",
    "    '빨간색': ['빨간색세모', '빨간색동그라미', '빨간색네모'],\n",
    "    '초록색': ['초록색동그라미', '초록색세모', '초록색네모'],\n",
    "    '파란색': ['파란색네모', '파란색동그라미', '파란색세모'],\n",
    "}\n",
    "\n",
    "모양색깔도형맵['네모'].append('보라색네모')\n",
    "모양색깔도형맵['초록색'].append('초록색별')\n",
    "\n",
    "print(모양색깔도형맵)"
   ]
  },
  {
   "cell_type": "markdown",
   "metadata": {},
   "source": [
    "# 자료구조 리스트(list): 병뚜껑 애벌레 놀이"
   ]
  },
  {
   "cell_type": "code",
   "execution_count": 16,
   "metadata": {},
   "outputs": [
    {
     "name": "stdout",
     "output_type": "stream",
     "text": [
      "빨간색\n",
      "보라색\n",
      "보라색\n"
     ]
    }
   ],
   "source": [
    "애벌레리스트 = ['빨간색', '노란색', '흰색', '초록색', '보라색']\n",
    "\n",
    "print(애벌레리스트[0])\n",
    "print(애벌레리스트[4])\n",
    "print(애벌레리스트[-1])"
   ]
  },
  {
   "cell_type": "code",
   "execution_count": 18,
   "metadata": {},
   "outputs": [
    {
     "name": "stdout",
     "output_type": "stream",
     "text": [
      "빨간색\n",
      "보라색\n",
      "보라색\n",
      "['빨간색', '노란색', '흰색', '초록색', '보라색']\n"
     ]
    }
   ],
   "source": [
    "애벌레리스트 = ['빨간색', '노란색', '흰색', '초록색', '보라색']\n",
    "print(애벌레리스트[0])\n",
    "print(애벌레리스트[4])\n",
    "print(애벌레리스트[-1])\n",
    "\n",
    "애벌레리스트 = []\n",
    "애벌레리스트.append('빨간색')\n",
    "애벌레리스트.append('노란색')\n",
    "애벌레리스트.append('흰색')\n",
    "애벌레리스트.append('초록색')\n",
    "애벌레리스트.append('보라색')\n",
    "print(애벌레리스트)"
   ]
  },
  {
   "cell_type": "markdown",
   "metadata": {},
   "source": [
    "# 자료구조 행렬(matrix): 행과 열 색깔 맞추기 "
   ]
  },
  {
   "cell_type": "code",
   "execution_count": 21,
   "metadata": {},
   "outputs": [
    {
     "name": "stdout",
     "output_type": "stream",
     "text": [
      "['파란색' '파란색' '파란색' '파란색']\n",
      "['빨간색' '빨간색' '빨간색']\n"
     ]
    }
   ],
   "source": [
    "import numpy as np\n",
    "\n",
    "행끼리행렬 = np.array([\n",
    "    ['파란색', '파란색', '파란색', '파란색'],\n",
    "    ['남색', '남색', '남색', '남색'],\n",
    "    ['보라색', '보라색', '보라색', '보라색'],\n",
    "])\n",
    "\n",
    "열끼리행렬 = np.array([\n",
    "    ['빨간색', '주황색', '노란색', '초록색'],\n",
    "    ['빨간색', '주황색', '노란색', '초록색'],\n",
    "    ['빨간색', '주황색', '노란색', '초록색'],\n",
    "])\n",
    "\n",
    "print(행끼리행렬[0, :])\n",
    "print(열끼리행렬[:, 0])"
   ]
  },
  {
   "cell_type": "markdown",
   "metadata": {},
   "source": [
    "# 리스트(list) & 원형 큐(circular queue): 주차 타워 놀이"
   ]
  },
  {
   "cell_type": "code",
   "execution_count": 12,
   "metadata": {},
   "outputs": [
    {
     "name": "stdout",
     "output_type": "stream",
     "text": [
      "['경찰차', '분홍 승용차', '자주 승용차', '노랑 버스', '스포츠카']\n",
      "['분홍 승용차', '자주 승용차', '노랑 버스', '스포츠카', '경찰차']\n",
      "['자주 승용차', '노랑 버스', '스포츠카', '경찰차', '분홍 승용차']\n"
     ]
    }
   ],
   "source": [
    "from queue import Queue\n",
    "\n",
    "주차타워원형큐 = Queue()\n",
    "주차타워원형큐.put('경찰차')\n",
    "주차타워원형큐.put('분홍 승용차')\n",
    "주차타워원형큐.put('자주 승용차')\n",
    "주차타워원형큐.put('노랑 버스')\n",
    "주차타워원형큐.put('스포츠카')\n",
    "print(list(주차타워원형큐.queue))\n",
    "\n",
    "주차타워원형큐.put(주차타워원형큐.get())\n",
    "print(list(주차타워원형큐.queue))\n",
    "\n",
    "주차타워원형큐.put(주차타워원형큐.get())\n",
    "print(list(주차타워원형큐.queue))"
   ]
  },
  {
   "cell_type": "markdown",
   "metadata": {},
   "source": [
    "# 큐(queue) & 스택(stack): 비즈 공예 키트로 팔찌 만들기"
   ]
  },
  {
   "cell_type": "code",
   "execution_count": 13,
   "metadata": {},
   "outputs": [
    {
     "name": "stdout",
     "output_type": "stream",
     "text": [
      "자주색 팔찌\n",
      "하늘색 팔찌\n",
      "연두색 팔찌\n",
      "노란색 팔찌\n",
      "주황색 팔찌\n",
      "분홍색 팔찌\n"
     ]
    }
   ],
   "source": [
    "from queue import Queue\n",
    "\n",
    "팔찌큐 = Queue()\n",
    "팔찌큐.put('자주색 팔찌')\n",
    "팔찌큐.put('하늘색 팔찌')\n",
    "팔찌큐.put('연두색 팔찌')\n",
    "팔찌큐.put('노란색 팔찌')\n",
    "팔찌큐.put('주황색 팔찌')\n",
    "팔찌큐.put('분홍색 팔찌')\n",
    "print(팔찌큐.get())\n",
    "print(팔찌큐.get())\n",
    "print(팔찌큐.get())\n",
    "print(팔찌큐.get())\n",
    "print(팔찌큐.get())\n",
    "print(팔찌큐.get())"
   ]
  },
  {
   "cell_type": "code",
   "execution_count": 14,
   "metadata": {},
   "outputs": [
    {
     "name": "stdout",
     "output_type": "stream",
     "text": [
      "분홍색 팔찌\n",
      "주황색 팔찌\n",
      "노란색 팔찌\n",
      "연두색 팔찌\n",
      "하늘색 팔찌\n",
      "자주색 팔찌\n"
     ]
    }
   ],
   "source": [
    "팔찌스택 = []\n",
    "팔찌스택.append('자주색 팔찌')\n",
    "팔찌스택.append('하늘색 팔찌')\n",
    "팔찌스택.append('연두색 팔찌')\n",
    "팔찌스택.append('노란색 팔찌')\n",
    "팔찌스택.append('주황색 팔찌')\n",
    "팔찌스택.append('분홍색 팔찌')\n",
    "print(팔찌스택.pop())\n",
    "print(팔찌스택.pop())\n",
    "print(팔찌스택.pop())\n",
    "print(팔찌스택.pop())\n",
    "print(팔찌스택.pop())\n",
    "print(팔찌스택.pop())"
   ]
  },
  {
   "cell_type": "markdown",
   "metadata": {},
   "source": [
    "# 리스트(list) & 스택(stack): 공구 놀이"
   ]
  },
  {
   "cell_type": "code",
   "execution_count": null,
   "metadata": {},
   "outputs": [],
   "source": []
  },
  {
   "cell_type": "markdown",
   "metadata": {},
   "source": [
    "# 백(bag): 공 던지기 놀이"
   ]
  },
  {
   "cell_type": "code",
   "execution_count": null,
   "metadata": {},
   "outputs": [],
   "source": [
    "케이크상자 = [\n",
    "    '빨간색공', '초록색공', '파란색공',\n",
    "    '분홍색공', '연두색공', '하늘색공',\n",
    "    '노란색공', '보라색공'\n",
    "]\n",
    "케이크상자.append('빨간색공')\n",
    "케이크상자.append('초록색공')\n",
    "print(케이크상자)"
   ]
  },
  {
   "cell_type": "markdown",
   "metadata": {},
   "source": [
    "# 연결 리스트(linked list): 무지개 기차"
   ]
  },
  {
   "cell_type": "code",
   "execution_count": null,
   "metadata": {},
   "outputs": [],
   "source": [
    "from cotylab.data_structure.linked_list import LinkedList\n",
    "무지개기차연결리스트 = LinkedList([\n",
    "    '빨간색칸', '주황색칸', '노란색칸', \n",
    "    '파란색칸', '남색칸', '보라색칸'\n",
    "])\n",
    "print(무지개기차연결리스트)\n",
    "\n",
    "무지개기차연결리스트.next()  # 주황색칸\n",
    "무지개기차연결리스트.next()  # 노란색칸\n",
    "무지개기차연결리스트.insert_node('초록색칸')\n",
    "무지개기차연결리스트.go_to_head()\n",
    "print(무지개기차연결리스트)"
   ]
  }
 ],
 "metadata": {
  "interpreter": {
   "hash": "42588fd11209419b7c81abe23e31a1d2101f60811b02170c268e57ebb57d5d9a"
  },
  "kernelspec": {
   "display_name": "Python 3.8.8 64-bit ('base': conda)",
   "language": "python",
   "name": "python3"
  },
  "language_info": {
   "codemirror_mode": {
    "name": "ipython",
    "version": 3
   },
   "file_extension": ".py",
   "mimetype": "text/x-python",
   "name": "python",
   "nbconvert_exporter": "python",
   "pygments_lexer": "ipython3",
   "version": "3.8.8"
  },
  "orig_nbformat": 4
 },
 "nbformat": 4,
 "nbformat_minor": 2
}
