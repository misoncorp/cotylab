{
 "cells": [
  {
   "cell_type": "code",
   "execution_count": 1,
   "metadata": {},
   "outputs": [],
   "source": [
    "%reload_ext autoreload\n",
    "%autoreload 2"
   ]
  },
  {
   "cell_type": "markdown",
   "metadata": {},
   "source": [
    "# 자료구조 맵(map): 케이크 초 끼우기"
   ]
  },
  {
   "cell_type": "code",
   "execution_count": 2,
   "metadata": {},
   "outputs": [
    {
     "name": "stdout",
     "output_type": "stream",
     "text": [
      "{'주황색 구멍': '주황색 촛불', '초록색 구멍': '초록색 촛불', '파란색 구멍': '파란색 촛불', '분홍색 구멍': '분홍색 촛불'}\n"
     ]
    }
   ],
   "source": [
    "케이크촛불맵 = {}\n",
    "케이크촛불맵['주황색 구멍'] = '주황색 촛불'\n",
    "케이크촛불맵['초록색 구멍'] = '초록색 촛불'\n",
    "케이크촛불맵['파란색 구멍'] = '파란색 촛불'\n",
    "케이크촛불맵['분홍색 구멍'] = '분홍색 촛불'\n",
    "print(케이크촛불맵)"
   ]
  },
  {
   "cell_type": "code",
   "execution_count": 3,
   "metadata": {},
   "outputs": [
    {
     "name": "stdout",
     "output_type": "stream",
     "text": [
      "초록색 촛불\n"
     ]
    }
   ],
   "source": [
    "print(케이크촛불맵['초록색 구멍'])"
   ]
  },
  {
   "cell_type": "markdown",
   "metadata": {},
   "source": [
    "# 자료구조 맵(map): 교통 표지판 만들기"
   ]
  },
  {
   "cell_type": "code",
   "execution_count": 1,
   "metadata": {},
   "outputs": [
    {
     "name": "stdout",
     "output_type": "stream",
     "text": [
      "{'도로공사중 종이컵': '도로공사중 투명컵', '자전거전용도로 종이컵': '자전거전용도로 투명컵', '버스전용차로 종이컵': '버스전용차로 투명컵', '횡단보도 종이컵': '횡단보도 투명컵', '일시정지 종이컵': '일시정지 투명컵'}\n"
     ]
    }
   ],
   "source": [
    "교통표지판맵 = {\n",
    "    '도로공사중 종이컵': '도로공사중 투명컵',\n",
    "    '자전거전용도로 종이컵': '자전거전용도로 투명컵',\n",
    "    '버스전용차로 종이컵': '버스전용차로 투명컵',\n",
    "    '횡단보도 종이컵': '횡단보도 투명컵',\n",
    "    '일시정지 종이컵': '일시정지 투명컵',\n",
    "}\n",
    "print(교통표지판맵)"
   ]
  },
  {
   "cell_type": "code",
   "execution_count": null,
   "metadata": {},
   "outputs": [],
   "source": [
    "print(케이크촛불맵['초록색 구멍'])"
   ]
  },
  {
   "cell_type": "markdown",
   "metadata": {},
   "source": [
    "# 자료구조 큐(Queue): 터널 만들기"
   ]
  },
  {
   "cell_type": "code",
   "execution_count": 9,
   "metadata": {},
   "outputs": [
    {
     "name": "stdout",
     "output_type": "stream",
     "text": [
      "deque(['노란색버스', '분홍색승용차', '민트색스포츠카'])\n"
     ]
    }
   ],
   "source": [
    "from queue import Queue\n",
    "자동차터널큐 = Queue()\n",
    "자동차터널큐.put('노란색버스')\n",
    "자동차터널큐.put('분홍색승용차')\n",
    "자동차터널큐.put('민트색스포츠카')\n",
    "print(자동차터널큐.queue)"
   ]
  },
  {
   "cell_type": "code",
   "execution_count": 10,
   "metadata": {},
   "outputs": [
    {
     "name": "stdout",
     "output_type": "stream",
     "text": [
      "노란색버스\n",
      "deque(['분홍색승용차', '민트색스포츠카'])\n"
     ]
    }
   ],
   "source": [
    "print(자동차터널큐.get())\n",
    "print(자동차터널큐.queue)"
   ]
  },
  {
   "cell_type": "markdown",
   "metadata": {},
   "source": [
    "# 자료구조 스택(stack): 손수건 뽑기"
   ]
  },
  {
   "cell_type": "code",
   "execution_count": 7,
   "metadata": {},
   "outputs": [
    {
     "name": "stdout",
     "output_type": "stream",
     "text": [
      "['구급차손수건', '승용차손수건', '로켓손수건', '경찰차손수건', '헬리콥터손수건']\n"
     ]
    }
   ],
   "source": [
    "손수건스택 = []\n",
    "손수건스택.append('구급차손수건')\n",
    "손수건스택.append('승용차손수건')\n",
    "손수건스택.append('로켓손수건')\n",
    "손수건스택.append('경찰차손수건')\n",
    "손수건스택.append('헬리콥터손수건')\n",
    "print(손수건스택)"
   ]
  },
  {
   "cell_type": "code",
   "execution_count": 8,
   "metadata": {},
   "outputs": [
    {
     "name": "stdout",
     "output_type": "stream",
     "text": [
      "헬리콥터손수건\n",
      "경찰차손수건\n",
      "['구급차손수건', '승용차손수건', '로켓손수건']\n",
      "로켓손수건\n",
      "승용차손수건\n",
      "구급차손수건\n",
      "[]\n"
     ]
    }
   ],
   "source": [
    "print(손수건스택.pop())\n",
    "print(손수건스택.pop())\n",
    "print(손수건스택)\n",
    "print(손수건스택.pop())\n",
    "print(손수건스택.pop())\n",
    "print(손수건스택.pop())\n",
    "print(손수건스택)"
   ]
  },
  {
   "cell_type": "markdown",
   "metadata": {},
   "source": [
    "# 자료구조 백(bag) & 맵(map): 색 막대 구분하기"
   ]
  },
  {
   "cell_type": "code",
   "execution_count": 3,
   "metadata": {},
   "outputs": [
    {
     "name": "stdout",
     "output_type": "stream",
     "text": [
      "{'빨간색 통': ['빨간색 막대', '빨간색 막대', '빨간색 막대'], '노란색 통': ['노란색 막대', '노란색 막대'], '초록색 통': ['초록색 막대']}\n"
     ]
    }
   ],
   "source": [
    "통_막대_맵 = {\n",
    "    '빨간색 통': [],\n",
    "    '노란색 통': [],\n",
    "    '초록색 통': [],\n",
    "}\n",
    "통_막대_맵['빨간색 통'].append('빨간색 막대')\n",
    "통_막대_맵['빨간색 통'].append('빨간색 막대')\n",
    "통_막대_맵['빨간색 통'].append('빨간색 막대')\n",
    "통_막대_맵['노란색 통'].append('노란색 막대')\n",
    "통_막대_맵['노란색 통'].append('노란색 막대')\n",
    "통_막대_맵['초록색 통'].append('초록색 막대')\n",
    "print(통_막대_맵)"
   ]
  },
  {
   "cell_type": "markdown",
   "metadata": {},
   "source": [
    "# 자료구조 집합(set): 동물 먹이 주기"
   ]
  },
  {
   "cell_type": "code",
   "execution_count": null,
   "metadata": {},
   "outputs": [],
   "source": [
    "# "
   ]
  },
  {
   "cell_type": "code",
   "execution_count": 2,
   "metadata": {},
   "outputs": [
    {
     "name": "stdout",
     "output_type": "stream",
     "text": [
      "합집합: {'배추', '물고기', '클로버', '당근', '오이'}\n",
      "교집합: {'당근'}\n",
      "차집합 (토끼 - 수달): {'배추', '클로버'}\n",
      "차집합 (수달 - 토끼): {'물고기', '오이'}\n"
     ]
    }
   ],
   "source": [
    "토끼먹이집합 = { '배추', '클로버', '당근' }\n",
    "수달먹이집합 = { '물고기', '오이', '당근' }\n",
    "\n",
    "print(f'합집합: {토끼먹이집합 | 수달먹이집합}')\n",
    "print(f'교집합: {토끼먹이집합 & 수달먹이집합}')\n",
    "print(f'차집합 (토끼 - 수달): {토끼먹이집합 - 수달먹이집합}')\n",
    "print(f'차집합 (수달 - 토끼): {수달먹이집합 - 토끼먹이집합}')"
   ]
  },
  {
   "cell_type": "markdown",
   "metadata": {},
   "source": [
    "# 자료구조 행렬(matrix): 클레이 색깔 섞기"
   ]
  },
  {
   "cell_type": "code",
   "execution_count": 11,
   "metadata": {},
   "outputs": [
    {
     "name": "stdout",
     "output_type": "stream",
     "text": [
      "빨파초검클레이행렬 + 흰색클레이행렬 =\n",
      "[[11 12]\n",
      " [13 14]]\n"
     ]
    }
   ],
   "source": [
    "import numpy as np\n",
    "\n",
    "빨파초검클레이행렬 = np.array([\n",
    "    [ 1, 2 ],\n",
    "    [ 3, 4 ]\n",
    "])\n",
    "\n",
    "흰색클레이행렬  = np.array([\n",
    "    [ 10, 10 ],\n",
    "    [ 10, 10 ]\n",
    "])\n",
    "\n",
    "print('빨파초검클레이행렬 + 흰색클레이행렬 =')\n",
    "print(빨파초검클레이행렬 + 흰색클레이행렬)"
   ]
  },
  {
   "cell_type": "markdown",
   "metadata": {},
   "source": [
    "# 자료구조 행렬(matrix): 도형 퍼즐 맞추기"
   ]
  },
  {
   "cell_type": "code",
   "execution_count": 8,
   "metadata": {},
   "outputs": [
    {
     "name": "stdout",
     "output_type": "stream",
     "text": [
      "반쪽도형행렬1 + 반쪽도형행렬2 =\n",
      "[[2 4]\n",
      " [6 8]]\n",
      "합친도형행렬 - 반쪽도형행렬1 =\n",
      "[[1 2]\n",
      " [3 4]]\n"
     ]
    }
   ],
   "source": [
    "import numpy as np\n",
    "\n",
    "합친도형행렬 = np.array([\n",
    "    [ 2, 4 ],\n",
    "    [ 6, 8 ]\n",
    "])\n",
    "\n",
    "반쪽도형행렬1 = np.array([\n",
    "    [ 1, 2 ],\n",
    "    [ 3, 4 ]\n",
    "])\n",
    "\n",
    "반쪽도형행렬2 = np.array([\n",
    "    [ 1, 2 ],\n",
    "    [ 3, 4 ]\n",
    "])\n",
    "\n",
    "print('반쪽도형행렬1 + 반쪽도형행렬2 =')\n",
    "print(반쪽도형행렬1 + 반쪽도형행렬2)\n",
    "print('합친도형행렬 - 반쪽도형행렬1 =')\n",
    "print(합친도형행렬 - 반쪽도형행렬1)"
   ]
  },
  {
   "cell_type": "markdown",
   "metadata": {},
   "source": [
    "# 자료구조 백(bag) & 맵(map): 도형 분류하기"
   ]
  },
  {
   "cell_type": "code",
   "execution_count": 15,
   "metadata": {},
   "outputs": [
    {
     "name": "stdout",
     "output_type": "stream",
     "text": [
      "{'동그라미': ['파란색동그라미', '빨간색동그라미', '초록색동그라미'], '세모': ['빨간색세모', '파란색세모', '초록색세모'], '네모': ['파란색네모', '초록색네모', '빨간색네모', '보라색네모'], '빨간색': ['빨간색세모', '빨간색동그라미', '빨간색네모'], '초록색': ['초록색동그라미', '초록색세모', '초록색네모', '초록색별'], '파란색': ['파란색네모', '파란색동그라미', '파란색세모']}\n"
     ]
    }
   ],
   "source": [
    "모양색깔도형맵 = {\n",
    "    '동그라미': ['파란색동그라미', '빨간색동그라미', '초록색동그라미'],\n",
    "    '세모': ['빨간색세모', '파란색세모', '초록색세모'],\n",
    "    '네모': ['파란색네모', '초록색네모', '빨간색네모'],\n",
    "    '빨간색': ['빨간색세모', '빨간색동그라미', '빨간색네모'],\n",
    "    '초록색': ['초록색동그라미', '초록색세모', '초록색네모'],\n",
    "    '파란색': ['파란색네모', '파란색동그라미', '파란색세모'],\n",
    "}\n",
    "\n",
    "모양색깔도형맵['네모'].append('보라색네모')\n",
    "모양색깔도형맵['초록색'].append('초록색별')\n",
    "\n",
    "print(모양색깔도형맵)"
   ]
  },
  {
   "cell_type": "markdown",
   "metadata": {},
   "source": [
    "# 자료구조 리스트(list): 병뚜껑 애벌레 놀이"
   ]
  },
  {
   "cell_type": "code",
   "execution_count": 16,
   "metadata": {},
   "outputs": [
    {
     "name": "stdout",
     "output_type": "stream",
     "text": [
      "빨간색\n",
      "보라색\n",
      "보라색\n"
     ]
    }
   ],
   "source": [
    "애벌레리스트 = ['빨간색', '노란색', '흰색', '초록색', '보라색']\n",
    "\n",
    "print(애벌레리스트[0])\n",
    "print(애벌레리스트[4])\n",
    "print(애벌레리스트[-1])"
   ]
  },
  {
   "cell_type": "code",
   "execution_count": 18,
   "metadata": {},
   "outputs": [
    {
     "name": "stdout",
     "output_type": "stream",
     "text": [
      "빨간색\n",
      "보라색\n",
      "보라색\n",
      "['빨간색', '노란색', '흰색', '초록색', '보라색']\n"
     ]
    }
   ],
   "source": [
    "애벌레리스트 = ['빨간색', '노란색', '흰색', '초록색', '보라색']\n",
    "print(애벌레리스트[0])\n",
    "print(애벌레리스트[4])\n",
    "print(애벌레리스트[-1])\n",
    "\n",
    "애벌레리스트 = []\n",
    "애벌레리스트.append('빨간색')\n",
    "애벌레리스트.append('노란색')\n",
    "애벌레리스트.append('흰색')\n",
    "애벌레리스트.append('초록색')\n",
    "애벌레리스트.append('보라색')\n",
    "print(애벌레리스트)"
   ]
  },
  {
   "cell_type": "markdown",
   "metadata": {},
   "source": [
    "# 자료구조 행렬(matrix): 행과 열 색깔 맞추기 "
   ]
  },
  {
   "cell_type": "code",
   "execution_count": 21,
   "metadata": {},
   "outputs": [
    {
     "name": "stdout",
     "output_type": "stream",
     "text": [
      "['파란색' '파란색' '파란색' '파란색']\n",
      "['빨간색' '빨간색' '빨간색']\n"
     ]
    }
   ],
   "source": [
    "import numpy as np\n",
    "\n",
    "행끼리행렬 = np.array([\n",
    "    ['파란색', '파란색', '파란색', '파란색'],\n",
    "    ['남색', '남색', '남색', '남색'],\n",
    "    ['보라색', '보라색', '보라색', '보라색'],\n",
    "])\n",
    "\n",
    "열끼리행렬 = np.array([\n",
    "    ['빨간색', '주황색', '노란색', '초록색'],\n",
    "    ['빨간색', '주황색', '노란색', '초록색'],\n",
    "    ['빨간색', '주황색', '노란색', '초록색'],\n",
    "])\n",
    "\n",
    "print(행끼리행렬[0, :])\n",
    "print(열끼리행렬[:, 0])"
   ]
  },
  {
   "cell_type": "markdown",
   "metadata": {},
   "source": [
    "# 리스트(list) & 원형 큐(circular queue): 주차 타워 놀이"
   ]
  },
  {
   "cell_type": "code",
   "execution_count": 12,
   "metadata": {},
   "outputs": [
    {
     "name": "stdout",
     "output_type": "stream",
     "text": [
      "['경찰차', '분홍 승용차', '자주 승용차', '노랑 버스', '스포츠카']\n",
      "['분홍 승용차', '자주 승용차', '노랑 버스', '스포츠카', '경찰차']\n",
      "['자주 승용차', '노랑 버스', '스포츠카', '경찰차', '분홍 승용차']\n"
     ]
    }
   ],
   "source": [
    "from queue import Queue\n",
    "\n",
    "주차타워원형큐 = Queue()\n",
    "주차타워원형큐.put('경찰차')\n",
    "주차타워원형큐.put('분홍 승용차')\n",
    "주차타워원형큐.put('자주 승용차')\n",
    "주차타워원형큐.put('노랑 버스')\n",
    "주차타워원형큐.put('스포츠카')\n",
    "print(list(주차타워원형큐.queue))\n",
    "\n",
    "주차타워원형큐.put(주차타워원형큐.get())\n",
    "print(list(주차타워원형큐.queue))\n",
    "\n",
    "주차타워원형큐.put(주차타워원형큐.get())\n",
    "print(list(주차타워원형큐.queue))"
   ]
  },
  {
   "cell_type": "markdown",
   "metadata": {},
   "source": [
    "# 큐(queue) & 스택(stack): 비즈 공예 키트로 팔찌 만들기"
   ]
  },
  {
   "cell_type": "code",
   "execution_count": 13,
   "metadata": {},
   "outputs": [
    {
     "name": "stdout",
     "output_type": "stream",
     "text": [
      "자주색 팔찌\n",
      "하늘색 팔찌\n",
      "연두색 팔찌\n",
      "노란색 팔찌\n",
      "주황색 팔찌\n",
      "분홍색 팔찌\n"
     ]
    }
   ],
   "source": [
    "from queue import Queue\n",
    "\n",
    "팔찌큐 = Queue()\n",
    "팔찌큐.put('자주색 팔찌')\n",
    "팔찌큐.put('하늘색 팔찌')\n",
    "팔찌큐.put('연두색 팔찌')\n",
    "팔찌큐.put('노란색 팔찌')\n",
    "팔찌큐.put('주황색 팔찌')\n",
    "팔찌큐.put('분홍색 팔찌')\n",
    "print(팔찌큐.get())\n",
    "print(팔찌큐.get())\n",
    "print(팔찌큐.get())\n",
    "print(팔찌큐.get())\n",
    "print(팔찌큐.get())\n",
    "print(팔찌큐.get())"
   ]
  },
  {
   "cell_type": "code",
   "execution_count": 14,
   "metadata": {},
   "outputs": [
    {
     "name": "stdout",
     "output_type": "stream",
     "text": [
      "분홍색 팔찌\n",
      "주황색 팔찌\n",
      "노란색 팔찌\n",
      "연두색 팔찌\n",
      "하늘색 팔찌\n",
      "자주색 팔찌\n"
     ]
    }
   ],
   "source": [
    "팔찌스택 = []\n",
    "팔찌스택.append('자주색 팔찌')\n",
    "팔찌스택.append('하늘색 팔찌')\n",
    "팔찌스택.append('연두색 팔찌')\n",
    "팔찌스택.append('노란색 팔찌')\n",
    "팔찌스택.append('주황색 팔찌')\n",
    "팔찌스택.append('분홍색 팔찌')\n",
    "print(팔찌스택.pop())\n",
    "print(팔찌스택.pop())\n",
    "print(팔찌스택.pop())\n",
    "print(팔찌스택.pop())\n",
    "print(팔찌스택.pop())\n",
    "print(팔찌스택.pop())"
   ]
  },
  {
   "cell_type": "markdown",
   "metadata": {},
   "source": [
    "# 백(bag): 공 던지기 놀이"
   ]
  },
  {
   "cell_type": "code",
   "execution_count": null,
   "metadata": {},
   "outputs": [],
   "source": [
    "케이크상자 = [\n",
    "    '빨간색공', '초록색공', '파란색공',\n",
    "    '분홍색공', '연두색공', '하늘색공',\n",
    "    '노란색공', '보라색공'\n",
    "]\n",
    "케이크상자.append('빨간색공')\n",
    "케이크상자.append('초록색공')\n",
    "print(케이크상자)"
   ]
  },
  {
   "cell_type": "markdown",
   "metadata": {},
   "source": [
    "# 연결 리스트(linked list): 무지개 기차"
   ]
  },
  {
   "cell_type": "code",
   "execution_count": null,
   "metadata": {},
   "outputs": [],
   "source": [
    "from cotylab.data_structure.linked_list import LinkedList\n",
    "무지개기차연결리스트 = LinkedList([\n",
    "    '빨간색칸', '주황색칸', '노란색칸', \n",
    "    '파란색칸', '남색칸', '보라색칸'\n",
    "])\n",
    "print(무지개기차연결리스트)\n",
    "\n",
    "무지개기차연결리스트.next()  # 주황색칸\n",
    "무지개기차연결리스트.next()  # 노란색칸\n",
    "무지개기차연결리스트.insert_node('초록색칸')\n",
    "무지개기차연결리스트.go_to_head()\n",
    "print(무지개기차연결리스트)"
   ]
  },
  {
   "cell_type": "markdown",
   "metadata": {},
   "source": [
    "# 트리(tree): 가계도"
   ]
  },
  {
   "cell_type": "code",
   "execution_count": 2,
   "metadata": {},
   "outputs": [
    {
     "name": "stdout",
     "output_type": "stream",
     "text": [
      "Node('/나')\n",
      "├── Node('/나/아빠')\n",
      "│   ├── Node('/나/아빠/할아버지')\n",
      "│   └── Node('/나/아빠/할머니')\n",
      "└── Node('/나/엄마')\n",
      "    ├── Node('/나/엄마/외할아버지')\n",
      "    └── Node('/나/엄마/외할머니')\n"
     ]
    }
   ],
   "source": [
    "from anytree import Node, RenderTree\n",
    "나 = Node('나')\n",
    "아빠 = Node('아빠', parent=나)\n",
    "엄마 = Node('엄마', parent=나)\n",
    "할아버지 = Node('할아버지', parent=아빠)\n",
    "할머니 = Node('할머니', parent=아빠)\n",
    "외할아버지 = Node('외할아버지', parent=엄마)\n",
    "외할머니 = Node('외할머니', parent=엄마)\n",
    "print(RenderTree(나))"
   ]
  },
  {
   "cell_type": "markdown",
   "metadata": {},
   "source": [
    "# 데크(Deque): 클레이 도넛 만들기"
   ]
  },
  {
   "cell_type": "code",
   "execution_count": 4,
   "metadata": {},
   "outputs": [
    {
     "data": {
      "text/plain": [
       "deque(['보라색', '연두색', '살구색', '주황색', '노란색', '분홍색'])"
      ]
     },
     "execution_count": 4,
     "metadata": {},
     "output_type": "execute_result"
    }
   ],
   "source": [
    "from collections import deque\n",
    "클레이빨대데크 = deque()\n",
    "클레이빨대데크.appendleft('주황색')\n",
    "클레이빨대데크.append('노란색')\n",
    "클레이빨대데크.appendleft('살구색')\n",
    "클레이빨대데크.appendleft('연두색')\n",
    "클레이빨대데크.append('분홍색')\n",
    "클레이빨대데크.appendleft('보라색')\n",
    "클레이빨대데크"
   ]
  },
  {
   "cell_type": "code",
   "execution_count": 5,
   "metadata": {},
   "outputs": [
    {
     "name": "stdout",
     "output_type": "stream",
     "text": [
      "오른쪽에서 빼기: 분홍색\n",
      "왼쪽에서 빼기: 보라색\n",
      "왼쪽에서 빼기: 연두색\n",
      "오른쪽에서 빼기: 노란색\n",
      "오른쪽에서 빼기: 주황색\n",
      "왼쪽에서 빼기: 살구색\n"
     ]
    }
   ],
   "source": [
    "print(f'오른쪽에서 빼기: {클레이빨대데크.pop()}')\n",
    "print(f'왼쪽에서 빼기: {클레이빨대데크.popleft()}')\n",
    "print(f'왼쪽에서 빼기: {클레이빨대데크.popleft()}')\n",
    "print(f'오른쪽에서 빼기: {클레이빨대데크.pop()}')\n",
    "print(f'오른쪽에서 빼기: {클레이빨대데크.pop()}')\n",
    "print(f'왼쪽에서 빼기: {클레이빨대데크.popleft()}')"
   ]
  },
  {
   "cell_type": "markdown",
   "metadata": {},
   "source": [
    "# 리스트(list) & 스택(stack): 공구 놀이"
   ]
  },
  {
   "cell_type": "code",
   "execution_count": 14,
   "metadata": {},
   "outputs": [
    {
     "name": "stdout",
     "output_type": "stream",
     "text": [
      "['', '초록색볼트', '', '', '']\n",
      "['', '초록색볼트', '보라색볼트', '', '']\n",
      "['', '초록색볼트', '보라색볼트', '', '보라색볼트']\n"
     ]
    }
   ],
   "source": [
    "볼트리스트 = [''] * 5\n",
    "볼트리스트[1] = '초록색볼트'; print(볼트리스트)\n",
    "볼트리스트[2] = '보라색볼트'; print(볼트리스트)\n",
    "볼트리스트[4] = '보라색볼트'; print(볼트리스트)"
   ]
  },
  {
   "cell_type": "code",
   "execution_count": 13,
   "metadata": {},
   "outputs": [
    {
     "name": "stdout",
     "output_type": "stream",
     "text": [
      "['빨간색너트']\n",
      "['빨간색너트', '주황색너트']\n",
      "['빨간색너트', '주황색너트', '노란색너트']\n",
      "['빨간색너트', '주황색너트', '노란색너트', '초록색너트']\n",
      "초록색너트\n",
      "노란색너트\n",
      "주황색너트\n",
      "빨간색너트\n"
     ]
    }
   ],
   "source": [
    "너트스택 = []\n",
    "너트스택.append('빨간색너트'); print(너트스택)\n",
    "너트스택.append('주황색너트'); print(너트스택)\n",
    "너트스택.append('노란색너트'); print(너트스택)\n",
    "너트스택.append('초록색너트'); print(너트스택)\n",
    "print(너트스택.pop())\n",
    "print(너트스택.pop())\n",
    "print(너트스택.pop())\n",
    "print(너트스택.pop())"
   ]
  },
  {
   "cell_type": "markdown",
   "metadata": {},
   "source": [
    "# 리스트(list) & 스택(stack): 숫자 놀이판"
   ]
  },
  {
   "cell_type": "code",
   "execution_count": 16,
   "metadata": {},
   "outputs": [
    {
     "name": "stdout",
     "output_type": "stream",
     "text": [
      "인덱스 0: 1\n",
      "인덱스 4: 5\n",
      "인덱스 9: 10\n"
     ]
    }
   ],
   "source": [
    "숫자리스트 = [1, 2, 3, 4, 5, 6, 7, 8, 9, 10]\n",
    "print(f'인덱스 0: {숫자리스트[0]}')\n",
    "print(f'인덱스 4: {숫자리스트[4]}')\n",
    "print(f'인덱스 9: {숫자리스트[9]}')"
   ]
  },
  {
   "cell_type": "code",
   "execution_count": 48,
   "metadata": {},
   "outputs": [
    {
     "name": "stdout",
     "output_type": "stream",
     "text": [
      "[['빨간색링1'], ['주황색링1', '주황색링2'],\n",
      " ['노란색링1', '노란색링2', '노란색링3'],\n",
      " ['연두색링1', '연두색링2', '연두색링3', '연두색링4'],\n",
      " ['초록색링1', '초록색링2', '초록색링3', '초록색링4', '초록색링5'],\n",
      " ['파란색링1', '파란색링2', '파란색링3', '파란색링4', '파란색링5',\n",
      "  '파란색링6'],\n",
      " ['하늘색링1', '하늘색링2', '하늘색링3', '하늘색링4', '하늘색링5',\n",
      "  '하늘색링6', '하늘색링7'],\n",
      " ['분홍색링1', '분홍색링2', '분홍색링3', '분홍색링4', '분홍색링5',\n",
      "  '분홍색링6', '분홍색링7', '분홍색링8'],\n",
      " ['자주색링1', '자주색링2', '자주색링3', '자주색링4', '자주색링5',\n",
      "  '자주색링6', '자주색링7', '자주색링8', '자주색링9'],\n",
      " ['보라색링1', '보라색링2', '보라색링3', '보라색링4', '보라색링5',\n",
      "  '보라색링6', '보라색링7', '보라색링8', '보라색링9', '보라색링10']]\n"
     ]
    }
   ],
   "source": [
    "import pprint\n",
    "링스택리스트 = [[] for _ in range(10)]\n",
    "링스택리스트[0].extend([f'빨간색링{i+1}' for i in range(1)])\n",
    "링스택리스트[1].extend([f'주황색링{i+1}' for i in range(2)])\n",
    "링스택리스트[2].extend([f'노란색링{i+1}' for i in range(3)])\n",
    "링스택리스트[3].extend([f'연두색링{i+1}' for i in range(4)])\n",
    "링스택리스트[4].extend([f'초록색링{i+1}' for i in range(5)])\n",
    "링스택리스트[5].extend([f'파란색링{i+1}' for i in range(6)])\n",
    "링스택리스트[6].extend([f'하늘색링{i+1}' for i in range(7)])\n",
    "링스택리스트[7].extend([f'분홍색링{i+1}' for i in range(8)])\n",
    "링스택리스트[8].extend([f'자주색링{i+1}' for i in range(9)])\n",
    "링스택리스트[9].extend([f'보라색링{i+1}' for i in range(10)])\n",
    "pp = pprint.PrettyPrinter(width=50, compact=True)\n",
    "pp.pprint(링스택리스트)"
   ]
  },
  {
   "cell_type": "code",
   "execution_count": 30,
   "metadata": {},
   "outputs": [
    {
     "name": "stdout",
     "output_type": "stream",
     "text": [
      "빨간색링1\n",
      "주황색링2\n",
      "노란색링3\n",
      "연두색링4\n",
      "초록색링5\n",
      "파란색링6\n",
      "하늘색링7\n",
      "분홍색링8\n",
      "자주색링9\n",
      "보라색링10\n"
     ]
    },
    {
     "data": {
      "text/plain": [
       "[[],\n",
       " ['주황색링1'],\n",
       " ['노란색링1', '노란색링2'],\n",
       " ['연두색링1', '연두색링2', '연두색링3'],\n",
       " ['초록색링1', '초록색링2', '초록색링3', '초록색링4'],\n",
       " ['파란색링1', '파란색링2', '파란색링3', '파란색링4', '파란색링5'],\n",
       " ['하늘색링1', '하늘색링2', '하늘색링3', '하늘색링4', '하늘색링5', '하늘색링6'],\n",
       " ['분홍색링1', '분홍색링2', '분홍색링3', '분홍색링4', '분홍색링5', '분홍색링6', '분홍색링7'],\n",
       " ['자주색링1', '자주색링2', '자주색링3', '자주색링4', '자주색링5', '자주색링6', '자주색링7', '자주색링8'],\n",
       " ['보라색링1',\n",
       "  '보라색링2',\n",
       "  '보라색링3',\n",
       "  '보라색링4',\n",
       "  '보라색링5',\n",
       "  '보라색링6',\n",
       "  '보라색링7',\n",
       "  '보라색링8',\n",
       "  '보라색링9']]"
      ]
     },
     "execution_count": 30,
     "metadata": {},
     "output_type": "execute_result"
    }
   ],
   "source": [
    "for 링스택 in 링스택리스트:\n",
    "    print(링스택.pop())\n",
    "링스택리스트"
   ]
  },
  {
   "cell_type": "markdown",
   "metadata": {},
   "source": [
    "# 큐(queue): 스탬프 장난감"
   ]
  },
  {
   "cell_type": "code",
   "execution_count": 61,
   "metadata": {},
   "outputs": [
    {
     "name": "stdout",
     "output_type": "stream",
     "text": [
      "스탬프 찍기 전: ['분홍색동전', '노란색동전', '연두색동전', '분홍색동전']\n",
      "스탬프 찍기: 분홍색동전\n",
      "스탬프 찍기: 노란색동전\n",
      "스탬프 찍기: 연두색동전\n",
      "스탬프 찍기: 분홍색동전\n",
      "스탬프 찍기 후: []\n"
     ]
    }
   ],
   "source": [
    "from queue import Queue\n",
    "스탬프큐 = Queue()\n",
    "스탬프큐.put('분홍색동전')\n",
    "스탬프큐.put('노란색동전')\n",
    "스탬프큐.put('연두색동전')\n",
    "스탬프큐.put('분홍색동전')\n",
    "print(f'스탬프 찍기 전: {list(스탬프큐.queue)}')\n",
    "print(f'스탬프 찍기: {스탬프큐.get()}')\n",
    "print(f'스탬프 찍기: {스탬프큐.get()}')\n",
    "print(f'스탬프 찍기: {스탬프큐.get()}')\n",
    "print(f'스탬프 찍기: {스탬프큐.get()}')\n",
    "print(f'스탬프 찍기 후: {list(스탬프큐.queue)}')"
   ]
  },
  {
   "cell_type": "markdown",
   "metadata": {},
   "source": [
    "# 리스트(list) & 스택(stack): 색연필 놀이"
   ]
  },
  {
   "cell_type": "code",
   "execution_count": 2,
   "metadata": {},
   "outputs": [
    {
     "name": "stdout",
     "output_type": "stream",
     "text": [
      "['갈색고깔', '보라색고깔', '주황색고깔', '파란색고깔', '초록색고깔']\n",
      "['보라색고깔', '검정색고깔', '초록색고깔', '민트색고깔', '주황색고깔', '분홍색고깔']\n"
     ]
    }
   ],
   "source": [
    "# 색깔 순서 카드 1: 갈색, 보라색, 주황색, 파란색, 초록색\n",
    "고깔색연필리스트1 = ['갈색고깔', '보라색고깔', '주황색고깔', '파란색고깔', '초록색고깔']\n",
    "\n",
    "# 색깔 순서 카드 2: 보라색, 검정색, 초록색, 민트색, 주황색, 분홍색\n",
    "고깔색연필리스트2 = ['', '', '', '', '', '']\n",
    "고깔색연필리스트2[0] = '보라색고깔'\n",
    "고깔색연필리스트2[1] = '검정색고깔'\n",
    "고깔색연필리스트2[2] = '초록색고깔'\n",
    "고깔색연필리스트2[3] = '민트색고깔'\n",
    "고깔색연필리스트2[4] = '주황색고깔'\n",
    "고깔색연필리스트2[5] = '분홍색고깔'\n",
    "\n",
    "print(고깔색연필리스트1)\n",
    "print(고깔색연필리스트2)"
   ]
  },
  {
   "cell_type": "code",
   "execution_count": 10,
   "metadata": {},
   "outputs": [
    {
     "name": "stdout",
     "output_type": "stream",
     "text": [
      "[고깔색연필스택1]\n",
      "파란색고깔\n",
      "하늘색고깔\n",
      "갈색고깔\n",
      "보라색고깔\n",
      "[고깔색연필스택2]\n",
      "분홍색고깔\n",
      "검정색고깔\n",
      "보라색고깔\n",
      "하늘색고깔\n"
     ]
    }
   ],
   "source": [
    "# 색깔 순서 카드 1: 보라색, 갈색, 하늘색, 파란색\n",
    "고깔색연필스택1 = []\n",
    "고깔색연필스택1.append('보라색고깔')\n",
    "고깔색연필스택1.append('갈색고깔')\n",
    "고깔색연필스택1.append('하늘색고깔')\n",
    "고깔색연필스택1.append('파란색고깔')\n",
    "\n",
    "# 색깔 순서 카드 2: 초록색, 주황색, 노란색, 갈색, 파란색, 하늘색, 보라색, 검정색, 분홍색\n",
    "고깔색연필스택2 = []\n",
    "고깔색연필스택2.append('초록색고깔')\n",
    "고깔색연필스택2.append('주황색고깔')\n",
    "고깔색연필스택2.append('노란색고깔')\n",
    "고깔색연필스택2.append('갈색고깔')\n",
    "고깔색연필스택2.append('파란색고깔')\n",
    "고깔색연필스택2.append('하늘색고깔')\n",
    "고깔색연필스택2.append('보라색고깔')\n",
    "고깔색연필스택2.append('검정색고깔')\n",
    "고깔색연필스택2.append('분홍색고깔')\n",
    "\n",
    "print('[고깔색연필스택1]')\n",
    "print(고깔색연필스택1.pop())\n",
    "print(고깔색연필스택1.pop())\n",
    "print(고깔색연필스택1.pop())\n",
    "print(고깔색연필스택1.pop())\n",
    "\n",
    "print('[고깔색연필스택2]')\n",
    "print(고깔색연필스택2.pop())\n",
    "print(고깔색연필스택2.pop())\n",
    "print(고깔색연필스택2.pop())\n",
    "print(고깔색연필스택2.pop())"
   ]
  },
  {
   "cell_type": "code",
   "execution_count": 19,
   "metadata": {},
   "outputs": [
    {
     "data": {
      "image/png": "[encoded data removed]",
      "text/plain": [
       "<Figure size 432x288 with 1 Axes>"
      ]
     },
     "metadata": {},
     "output_type": "display_data"
    }
   ],
   "source": [
    "# 그래프(graph)\n",
    "import matplotlib.pyplot as plt\n",
    "import networkx as nx\n",
    "그래프 = nx.Graph()\n",
    "그래프.add_node('집', color='red', style='filled', fillcolor='red')\n",
    "그래프.add_node('어린이집', color='red', style='filled', fillcolor='red')\n",
    "그래프.add_node('할머니집', color='red', style='filled', fillcolor='red')\n",
    "그래프.add_edge('집', '어린이집')\n",
    "그래프.add_edge('집', '할머니집')\n",
    "그래프.add_edge('할머니집', '어린이집')\n",
    "nx.draw(그래프, with_labels=True, font_family='NanumGothic', font_size=20, font_weight='bold')"
   ]
  }
 ],
 "metadata": {
  "kernelspec": {
   "display_name": "Python 3.8.8 ('base')",
   "language": "python",
   "name": "python3"
  },
  "language_info": {
   "codemirror_mode": {
    "name": "ipython",
    "version": 3
   },
   "file_extension": ".py",
   "mimetype": "text/x-python",
   "name": "python",
   "nbconvert_exporter": "python",
   "pygments_lexer": "ipython3",
   "version": "3.8.8"
  },
  "orig_nbformat": 4,
  "vscode": {
   "interpreter": {
    "hash": "263930470851f494f0ed2879c35b57985588df20f9e529b86e97dd5eb9ddc466"
   }
  }
 },
 "nbformat": 4,
 "nbformat_minor": 2
}
